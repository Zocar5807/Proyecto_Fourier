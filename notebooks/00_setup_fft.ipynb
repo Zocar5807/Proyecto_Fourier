{
 "cells": [
  {
   "cell_type": "code",
   "execution_count": null,
   "id": "90779ada",
   "metadata": {
    "vscode": {
     "languageId": "plaintext"
    }
   },
   "outputs": [],
   "source": [
    "import numpy as np\n",
    "import matplotlib.pyplot as plt\n",
    "from numpy.fft import fft2, fftshift, ifft2, ifftshift\n",
    "from skimage import data, color, img_as_float\n",
    "import imageio"
   ]
  },
  {
   "cell_type": "code",
   "execution_count": null,
   "id": "3fc55d28",
   "metadata": {
    "vscode": {
     "languageId": "plaintext"
    }
   },
   "outputs": [],
   "source": [
    "img = img_as_float(color.rgb2gray(data.astronaut()))  # escala de grises\n"
   ]
  },
  {
   "cell_type": "code",
   "execution_count": null,
   "id": "767d27e4",
   "metadata": {
    "vscode": {
     "languageId": "plaintext"
    }
   },
   "outputs": [],
   "source": [
    "# guarda una imagen en data/my_image.png antes de ejecutar\n",
    "img = img_as_float(imageio.imread('data/my_image.png', pilmode='L'))  # L -> grayscale"
   ]
  },
  {
   "cell_type": "code",
   "execution_count": null,
   "id": "e970b8cb",
   "metadata": {
    "vscode": {
     "languageId": "plaintext"
    }
   },
   "outputs": [],
   "source": [
    "M,N = 256,256\n",
    "x = np.linspace(0,4*np.pi,N)\n",
    "y = np.linspace(0,4*np.pi,M)\n",
    "X,Y = np.meshgrid(x,y)\n",
    "img = 0.5*(np.sin(5*X) + np.sin(10*Y))  # patrón senoidal\n",
    "# normalizar a [0,1]\n",
    "img = (img - img.min()) / (img.max()-img.min())\n"
   ]
  },
  {
   "cell_type": "code",
   "execution_count": null,
   "id": "c16b6fc6",
   "metadata": {
    "vscode": {
     "languageId": "plaintext"
    }
   },
   "outputs": [],
   "source": [
    "F = fftshift(fft2(img))\n",
    "S = np.abs(F)\n",
    "# espectro log para visualización\n",
    "S_log = np.log1p(S)\n",
    "\n",
    "fig, ax = plt.subplots(1,2, figsize=(10,5))\n",
    "ax[0].imshow(img, cmap='gray')\n",
    "ax[0].set_title('Imagen (grayscale)')\n",
    "ax[0].axis('off')\n",
    "ax[1].imshow(S_log, cmap='viridis')\n",
    "ax[1].set_title('Espectro log(|F|)')\n",
    "ax[1].axis('off')\n",
    "plt.show()\n"
   ]
  },
  {
   "cell_type": "code",
   "execution_count": null,
   "id": "e4290744",
   "metadata": {
    "vscode": {
     "languageId": "plaintext"
    }
   },
   "outputs": [],
   "source": [
    "plt.imsave('reports/imagen_original.png', img, cmap='gray')\n",
    "plt.imsave('reports/espectro_log.png', S_log, cmap='viridis')\n"
   ]
  }
 ],
 "metadata": {
  "language_info": {
   "name": "python"
  }
 },
 "nbformat": 4,
 "nbformat_minor": 5
}
